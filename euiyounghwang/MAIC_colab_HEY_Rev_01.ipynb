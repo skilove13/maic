{
  "nbformat": 4,
  "nbformat_minor": 0,
  "metadata": {
    "colab": {
      "provenance": [],
      "machine_shape": "hm",
      "gpuType": "V100"
    },
    "kernelspec": {
      "name": "python3",
      "display_name": "Python 3"
    },
    "language_info": {
      "name": "python"
    },
    "accelerator": "GPU"
  },
  "cells": [
    {
      "cell_type": "markdown",
      "source": [
        "# 라이브러리 임포트"
      ],
      "metadata": {
        "id": "LIg5I__Tqyn8"
      }
    },
    {
      "cell_type": "code",
      "source": [
        "import numpy as np\n",
        "import os\n",
        "import pandas as pd\n",
        "import tensorflow as tf\n",
        "from tensorflow import keras"
      ],
      "metadata": {
        "id": "ydEI1OHMq2LU"
      },
      "execution_count": null,
      "outputs": []
    },
    {
      "cell_type": "markdown",
      "source": [
        "# 워킹 디렉터리 설정"
      ],
      "metadata": {
        "id": "rS0endJ2G4Fz"
      }
    },
    {
      "cell_type": "code",
      "source": [
        "# 드라이브 마운트\n",
        "from google.colab import drive\n",
        "drive.mount('/content/drive')"
      ],
      "metadata": {
        "colab": {
          "base_uri": "https://localhost:8080/"
        },
        "id": "WXtCNWmRG5qK",
        "outputId": "dc71e2b5-98f9-4760-e206-cd9c547a129c"
      },
      "execution_count": null,
      "outputs": [
        {
          "output_type": "stream",
          "name": "stdout",
          "text": [
            "Drive already mounted at /content/drive; to attempt to forcibly remount, call drive.mount(\"/content/drive\", force_remount=True).\n"
          ]
        }
      ]
    },
    {
      "cell_type": "code",
      "source": [
        "%cd /content/drive/MyDrive/Colab Notebooks/Toy/21~23년/230911 MAIC ECG AI Challenge 2023"
      ],
      "metadata": {
        "colab": {
          "base_uri": "https://localhost:8080/"
        },
        "id": "SOxpWPDpHQ7a",
        "outputId": "d8513e6a-5cf7-4052-b5ae-56cfb8e439ff"
      },
      "execution_count": null,
      "outputs": [
        {
          "output_type": "stream",
          "name": "stdout",
          "text": [
            "/content/drive/MyDrive/Colab Notebooks/Toy/21~23년/230911 MAIC ECG AI Challenge 2023\n"
          ]
        }
      ]
    },
    {
      "cell_type": "code",
      "source": [
        "pwd"
      ],
      "metadata": {
        "colab": {
          "base_uri": "https://localhost:8080/",
          "height": 35
        },
        "id": "FR7eKshqrSKd",
        "outputId": "674baf7c-02b1-4128-894f-7ce76c18bfc7"
      },
      "execution_count": null,
      "outputs": [
        {
          "output_type": "execute_result",
          "data": {
            "text/plain": [
              "'/content/drive/MyDrive/Colab Notebooks/Toy/21~23년/230911 MAIC ECG AI Challenge 2023'"
            ],
            "application/vnd.google.colaboratory.intrinsic+json": {
              "type": "string"
            }
          },
          "metadata": {},
          "execution_count": 4
        }
      ]
    },
    {
      "cell_type": "markdown",
      "source": [
        "아래 폴더 공유 방법으로는 데이터 가져오기 어려움"
      ],
      "metadata": {
        "id": "SRzhrpomrERc"
      }
    },
    {
      "cell_type": "code",
      "execution_count": null,
      "metadata": {
        "id": "SEq030ffyE59"
      },
      "outputs": [],
      "source": [
        "# ECG_adult_numpy_train (.npy 포함 폴더)\n",
        "# https://drive.google.com/drive/folders/1MTPpMkgcQNi4fZqHpC468hZWhbusYAT-?usp=sharing\n",
        "\n",
        "# ECG_adult_numpy_valid (.npy 포함 폴더)\n",
        "# https://drive.google.com/drive/folders/1Mjgq3blHNF9VmvL11GScgIZz0hQt2kg2?usp=sharing\n",
        "\n",
        "# ECG_child_numpy_train (.npy 포함 폴더)\n",
        "# https://drive.google.com/drive/folders/1MVkELdZNLgY7UIRo_8p5iZQSJ2kV7R0k?usp=sharing\n",
        "\n",
        "# ECG_child_numpy_valid (.npy 포함 폴더)\n",
        "# https://drive.google.com/drive/folders/1M_DdseTnR4Zt2z8bF8uUsdFkRfX_Cxvh?usp=sharing\n",
        "\n",
        "# ECG_adult_age_train.csv\n",
        "# https://docs.google.com/spreadsheets/d/1UHIjtDBssp0OkTM3LHqScUDqV54tjoM5AOb2nZSIef0/edit?usp=sharing\n",
        "\n",
        "# ECG_child_age_train.csv\n",
        "# https://docs.google.com/spreadsheets/d/1NigRh0j7gRyTkV9NkGNw_VW6YueYE-p-TRapoz6RnnA/edit?usp=sharing"
      ]
    },
    {
      "cell_type": "markdown",
      "source": [
        "## 어른 경로 지정"
      ],
      "metadata": {
        "id": "lKY4AShNrZQc"
      }
    },
    {
      "cell_type": "code",
      "source": [
        "# 라벨 데이터 로딩\n",
        "label_data = pd.read_csv('ECG_adult_age_train.csv')\n",
        "\n",
        "train_folder = 'ECG_adult_numpy_train'\n",
        "valid_folder = 'ECG_adult_numpy_valid'"
      ],
      "metadata": {
        "id": "ud41ERReLYzJ"
      },
      "execution_count": null,
      "outputs": []
    },
    {
      "cell_type": "markdown",
      "source": [
        "## 어른 데이터 사이즈 확인"
      ],
      "metadata": {
        "id": "1WedFAviKm8h"
      }
    },
    {
      "cell_type": "markdown",
      "source": [
        "시간 부족으로 생략"
      ],
      "metadata": {
        "id": "GS4YXKsrccpz"
      }
    },
    {
      "cell_type": "code",
      "source": [
        "def identify_problematic_files(folder_path):\n",
        "    for file_name in os.listdir(folder_path):\n",
        "        try:\n",
        "            data = np.load(os.path.join(folder_path, file_name))\n",
        "            if data.shape != (60000,):\n",
        "                print(f\"File {file_name} has an unexpected shape {data.shape}.\")\n",
        "        except Exception as e:\n",
        "            print(f\"An exception occurred while loading {file_name}: {e}\")\n",
        "\n",
        "identify_problematic_files(train_folder)\n",
        "identify_problematic_files(valid_folder)\n"
      ],
      "metadata": {
        "colab": {
          "base_uri": "https://localhost:8080/",
          "height": 368
        },
        "id": "GFguGNiTS41H",
        "outputId": "775d2c1d-edef-4f06-c8ea-306961726493"
      },
      "execution_count": null,
      "outputs": [
        {
          "output_type": "error",
          "ename": "KeyboardInterrupt",
          "evalue": "ignored",
          "traceback": [
            "\u001b[0;31m---------------------------------------------------------------------------\u001b[0m",
            "\u001b[0;31mKeyboardInterrupt\u001b[0m                         Traceback (most recent call last)",
            "\u001b[0;32m<ipython-input-8-4c76956d3477>\u001b[0m in \u001b[0;36m<cell line: 10>\u001b[0;34m()\u001b[0m\n\u001b[1;32m      8\u001b[0m             \u001b[0mprint\u001b[0m\u001b[0;34m(\u001b[0m\u001b[0;34mf\"An exception occurred while loading {file_name}: {e}\"\u001b[0m\u001b[0;34m)\u001b[0m\u001b[0;34m\u001b[0m\u001b[0;34m\u001b[0m\u001b[0m\n\u001b[1;32m      9\u001b[0m \u001b[0;34m\u001b[0m\u001b[0m\n\u001b[0;32m---> 10\u001b[0;31m \u001b[0midentify_problematic_files\u001b[0m\u001b[0;34m(\u001b[0m\u001b[0mtrain_folder\u001b[0m\u001b[0;34m)\u001b[0m\u001b[0;34m\u001b[0m\u001b[0;34m\u001b[0m\u001b[0m\n\u001b[0m\u001b[1;32m     11\u001b[0m \u001b[0midentify_problematic_files\u001b[0m\u001b[0;34m(\u001b[0m\u001b[0mvalid_folder\u001b[0m\u001b[0;34m)\u001b[0m\u001b[0;34m\u001b[0m\u001b[0;34m\u001b[0m\u001b[0m\n",
            "\u001b[0;32m<ipython-input-8-4c76956d3477>\u001b[0m in \u001b[0;36midentify_problematic_files\u001b[0;34m(folder_path)\u001b[0m\n\u001b[1;32m      1\u001b[0m \u001b[0;32mdef\u001b[0m \u001b[0midentify_problematic_files\u001b[0m\u001b[0;34m(\u001b[0m\u001b[0mfolder_path\u001b[0m\u001b[0;34m)\u001b[0m\u001b[0;34m:\u001b[0m\u001b[0;34m\u001b[0m\u001b[0;34m\u001b[0m\u001b[0m\n\u001b[0;32m----> 2\u001b[0;31m     \u001b[0;32mfor\u001b[0m \u001b[0mfile_name\u001b[0m \u001b[0;32min\u001b[0m \u001b[0mos\u001b[0m\u001b[0;34m.\u001b[0m\u001b[0mlistdir\u001b[0m\u001b[0;34m(\u001b[0m\u001b[0mfolder_path\u001b[0m\u001b[0;34m)\u001b[0m\u001b[0;34m:\u001b[0m\u001b[0;34m\u001b[0m\u001b[0;34m\u001b[0m\u001b[0m\n\u001b[0m\u001b[1;32m      3\u001b[0m         \u001b[0;32mtry\u001b[0m\u001b[0;34m:\u001b[0m\u001b[0;34m\u001b[0m\u001b[0;34m\u001b[0m\u001b[0m\n\u001b[1;32m      4\u001b[0m             \u001b[0mdata\u001b[0m \u001b[0;34m=\u001b[0m \u001b[0mnp\u001b[0m\u001b[0;34m.\u001b[0m\u001b[0mload\u001b[0m\u001b[0;34m(\u001b[0m\u001b[0mos\u001b[0m\u001b[0;34m.\u001b[0m\u001b[0mpath\u001b[0m\u001b[0;34m.\u001b[0m\u001b[0mjoin\u001b[0m\u001b[0;34m(\u001b[0m\u001b[0mfolder_path\u001b[0m\u001b[0;34m,\u001b[0m \u001b[0mfile_name\u001b[0m\u001b[0;34m)\u001b[0m\u001b[0;34m)\u001b[0m\u001b[0;34m\u001b[0m\u001b[0;34m\u001b[0m\u001b[0m\n\u001b[1;32m      5\u001b[0m             \u001b[0;32mif\u001b[0m \u001b[0mdata\u001b[0m\u001b[0;34m.\u001b[0m\u001b[0mshape\u001b[0m \u001b[0;34m!=\u001b[0m \u001b[0;34m(\u001b[0m\u001b[0;36m60000\u001b[0m\u001b[0;34m,\u001b[0m\u001b[0;34m)\u001b[0m\u001b[0;34m:\u001b[0m\u001b[0;34m\u001b[0m\u001b[0;34m\u001b[0m\u001b[0m\n",
            "\u001b[0;31mKeyboardInterrupt\u001b[0m: "
          ]
        }
      ]
    },
    {
      "cell_type": "code",
      "source": [
        "# 데이터 형태 확인\n",
        "sample_data = np.load(os.path.join(train_folder, 'ecg_adult_0.npy'))\n",
        "print(\"Sample data shape:\", sample_data.shape)"
      ],
      "metadata": {
        "colab": {
          "base_uri": "https://localhost:8080/"
        },
        "id": "exf2nne59slG",
        "outputId": "34b30cb2-b304-4472-edb6-09ea23e8a6ad"
      },
      "execution_count": null,
      "outputs": [
        {
          "output_type": "stream",
          "name": "stdout",
          "text": [
            "Sample data shape: (60000,)\n"
          ]
        }
      ]
    },
    {
      "cell_type": "code",
      "source": [
        "# 첫 5개 파일만 로드하여 형태 확인\n",
        "for i in range(5):\n",
        "    data = np.load(os.path.join(train_folder, f'ecg_adult_{i}.npy'))\n",
        "    print(f\"Shape of ecg_adult_{i}.npy: {data.shape}\")"
      ],
      "metadata": {
        "colab": {
          "base_uri": "https://localhost:8080/"
        },
        "id": "zRa3NAy9-Qtu",
        "outputId": "2abd7a4c-a7eb-4dd3-dcc7-27a8612a4835"
      },
      "execution_count": null,
      "outputs": [
        {
          "output_type": "stream",
          "name": "stdout",
          "text": [
            "Shape of ecg_adult_0.npy: (60000,)\n",
            "Shape of ecg_adult_1.npy: (60000,)\n",
            "Shape of ecg_adult_2.npy: (60000,)\n",
            "Shape of ecg_adult_3.npy: (60000,)\n",
            "Shape of ecg_adult_4.npy: (60000,)\n"
          ]
        }
      ]
    },
    {
      "cell_type": "markdown",
      "source": [
        "## 어른 데이터 로딩"
      ],
      "metadata": {
        "id": "VRlguOi8rffM"
      }
    },
    {
      "cell_type": "code",
      "source": [
        "def load_data(folder_path, label_data):\n",
        "    X = []\n",
        "    y = []\n",
        "    for file_name in os.listdir(folder_path):\n",
        "        if file_name == \"ecg_adult_16901.npy\":  # 추가된 부분\n",
        "            print(f\"Skipping problematic file {file_name}\")\n",
        "            continue\n",
        "        try:\n",
        "            data = np.load(os.path.join(folder_path, file_name))\n",
        "            if data.shape != (60000,):\n",
        "                print(f\"File {file_name} has an unexpected shape {data.shape}. Skipping.\")\n",
        "                continue\n",
        "            X.append(data)\n",
        "            y.append(label_data.loc[label_data['FILENAME'] == file_name.split('.')[0], 'AGE'].iloc[0])\n",
        "        except Exception as e:\n",
        "            print(f\"An exception occurred while loading {file_name}: {e}. Skipping.\")\n",
        "            continue\n",
        "    return np.array(X), np.array(y)"
      ],
      "metadata": {
        "id": "Q1p2iqU5K2ph"
      },
      "execution_count": null,
      "outputs": []
    },
    {
      "cell_type": "markdown",
      "source": [
        "16901 데이터 다운 받다가 손상됐을 수 있음"
      ],
      "metadata": {
        "id": "UBGPwgfFXshm"
      }
    },
    {
      "cell_type": "code",
      "source": [
        "# Train 데이터 로딩\n",
        "X_train, y_train = load_data(train_folder, label_data)"
      ],
      "metadata": {
        "colab": {
          "base_uri": "https://localhost:8080/"
        },
        "id": "onMT_gA0rg2s",
        "outputId": "20c010cb-7538-4b6d-e26c-5826bd99d893"
      },
      "execution_count": null,
      "outputs": [
        {
          "output_type": "stream",
          "name": "stdout",
          "text": [
            "Skipping problematic file ecg_adult_16901.npy\n"
          ]
        }
      ]
    },
    {
      "cell_type": "markdown",
      "source": [
        "## Train 셋, Test 셋 나누기"
      ],
      "metadata": {
        "id": "VRZylYP-XPxV"
      }
    },
    {
      "cell_type": "code",
      "source": [
        "from sklearn.model_selection import train_test_split\n",
        "\n",
        "X_train, X_valid, y_train, y_valid = train_test_split(X_train, y_train, test_size=0.2, random_state=42)"
      ],
      "metadata": {
        "id": "otgqQzSFXOPF"
      },
      "execution_count": null,
      "outputs": []
    },
    {
      "cell_type": "markdown",
      "source": [
        "# Data Augmentation"
      ],
      "metadata": {
        "id": "JJI2kZtpFX8r"
      }
    },
    {
      "cell_type": "markdown",
      "source": [
        "메모리 터져서 이게 가장 현실적인 것 같음"
      ],
      "metadata": {
        "id": "vaxXl44WcWUE"
      }
    },
    {
      "cell_type": "code",
      "source": [
        "def data_generator(X, y, batch_size=32, augment_fn=None):\n",
        "    num_samples = len(X)\n",
        "    while True:  # Loop forever so the generator never terminates\n",
        "        for offset in range(0, num_samples, batch_size):\n",
        "            batch_X = X[offset:offset+batch_size]\n",
        "            batch_y = y[offset:offset+batch_size]\n",
        "\n",
        "            if augment_fn:\n",
        "                batch_X, batch_y = augment_fn(batch_X, batch_y)\n",
        "\n",
        "            yield batch_X, batch_y\n",
        "\n",
        "# Augmentation 함수를 정의\n",
        "def batch_augment(X_batch, y_batch):\n",
        "    return apply_augmentation(X_batch, y_batch)  # 앞서 정의한 apply_augmentation 함수를 사용\n",
        "\n",
        "# Generator 생성\n",
        "train_gen = data_generator(X_train, y_train, batch_size=32, augment_fn=batch_augment)\n",
        "valid_gen = data_generator(X_valid, y_valid, batch_size=32)"
      ],
      "metadata": {
        "id": "YPbYy2XMbKQk"
      },
      "execution_count": null,
      "outputs": []
    },
    {
      "cell_type": "markdown",
      "source": [
        "# 모델 학습"
      ],
      "metadata": {
        "id": "3CnCEKjUHc9q"
      }
    },
    {
      "cell_type": "markdown",
      "source": [
        "전이학습 모델 가져올 시간 부족"
      ],
      "metadata": {
        "id": "cMb-pb5_N8uA"
      }
    },
    {
      "cell_type": "code",
      "source": [
        "from tensorflow.keras import callbacks\n",
        "\n",
        "# 모델 구성\n",
        "model = keras.Sequential([\n",
        "    keras.layers.InputLayer(input_shape=(60000,)),\n",
        "    keras.layers.Dense(256, activation='relu'),\n",
        "    keras.layers.Dropout(0.5),\n",
        "    keras.layers.Dense(128, activation='relu'),\n",
        "    keras.layers.Dropout(0.5),\n",
        "    keras.layers.Dense(64, activation='relu'),\n",
        "    keras.layers.Dense(1)\n",
        "])\n",
        "\n",
        "# Early Stopping과 Model Checkpoint\n",
        "early_stopping = callbacks.EarlyStopping(patience=5, restore_best_weights=True)\n",
        "model_checkpoint = callbacks.ModelCheckpoint('best_model.h5', save_best_only=True)\n",
        "\n",
        "# 모델 컴파일\n",
        "model.compile(optimizer='adam',\n",
        "              loss='mean_squared_error',\n",
        "              metrics=['mae'])\n",
        "\n",
        "# Keras 모델 훈련\n",
        "model.fit(train_gen,\n",
        "          steps_per_epoch=len(X_train) // 32,\n",
        "          epochs=20,  # 시간 부족으로 에포크 수 50 까지 안됨\n",
        "          validation_data=valid_gen,\n",
        "          validation_steps=len(X_valid) // 32,\n",
        "          callbacks=[early_stopping, model_checkpoint])  # 콜백 추가"
      ],
      "metadata": {
        "colab": {
          "base_uri": "https://localhost:8080/"
        },
        "id": "qHG452T-Hbsj",
        "outputId": "83bff32b-8124-4c1a-e8e1-7f12789957b0"
      },
      "execution_count": null,
      "outputs": [
        {
          "output_type": "stream",
          "name": "stdout",
          "text": [
            "Epoch 1/20\n",
            "871/872 [============================>.] - ETA: 0s - loss: 15442.8105 - mae: 75.7143"
          ]
        },
        {
          "output_type": "stream",
          "name": "stderr",
          "text": [
            "/usr/local/lib/python3.10/dist-packages/keras/src/engine/training.py:3000: UserWarning: You are saving your model as an HDF5 file via `model.save()`. This file format is considered legacy. We recommend using instead the native Keras format, e.g. `model.save('my_model.keras')`.\n",
            "  saving_api.save_model(\n"
          ]
        },
        {
          "output_type": "stream",
          "name": "stdout",
          "text": [
            "\b\b\b\b\b\b\b\b\b\b\b\b\b\b\b\b\b\b\b\b\b\b\b\b\b\b\b\b\b\b\b\b\b\b\b\b\b\b\b\b\b\b\b\b\b\b\b\b\b\b\b\b\b\b\b\b\b\b\b\b\b\b\b\b\b\b\b\b\b\b\b\b\b\b\b\b\b\b\b\b\b\b\b\b\r872/872 [==============================] - 49s 49ms/step - loss: 15426.8242 - mae: 75.6652 - val_loss: 1883.4559 - val_mae: 39.1396\n",
            "Epoch 2/20\n",
            "872/872 [==============================] - 43s 49ms/step - loss: 2196.0596 - mae: 37.5839 - val_loss: 1268.4163 - val_mae: 31.0773\n",
            "Epoch 3/20\n",
            "872/872 [==============================] - 41s 47ms/step - loss: 1942.0496 - mae: 34.9887 - val_loss: 1385.5383 - val_mae: 33.0949\n",
            "Epoch 4/20\n",
            "872/872 [==============================] - 40s 46ms/step - loss: 1746.4207 - mae: 33.0302 - val_loss: 1408.6583 - val_mae: 33.4208\n",
            "Epoch 5/20\n",
            "872/872 [==============================] - 39s 45ms/step - loss: 1529.6421 - mae: 30.9473 - val_loss: 1449.4314 - val_mae: 34.1582\n",
            "Epoch 6/20\n",
            "872/872 [==============================] - 40s 46ms/step - loss: 1286.6549 - mae: 28.8365 - val_loss: 1610.8351 - val_mae: 36.3935\n",
            "Epoch 7/20\n",
            "872/872 [==============================] - 41s 47ms/step - loss: 1325.9437 - mae: 28.0631 - val_loss: 1292.5083 - val_mae: 32.0338\n"
          ]
        },
        {
          "output_type": "execute_result",
          "data": {
            "text/plain": [
              "<keras.src.callbacks.History at 0x7f9b0d84c7f0>"
            ]
          },
          "metadata": {},
          "execution_count": 14
        }
      ]
    },
    {
      "cell_type": "markdown",
      "source": [
        "# 예측"
      ],
      "metadata": {
        "id": "kJBnXXbGHvna"
      }
    },
    {
      "cell_type": "code",
      "source": [
        "import pandas as pd\n",
        "import numpy as np\n",
        "import os\n",
        "\n",
        "# 1. 테스트 데이터 로드\n",
        "test_folder = '/content/drive/MyDrive/Colab Notebooks/Toy/21~23년/230911 MAIC ECG AI Challenge 2023/ECG_adult_numpy_valid'\n",
        "X_test = []\n",
        "test_files = []\n",
        "\n",
        "for file_name in os.listdir(test_folder):\n",
        "    data = np.load(os.path.join(test_folder, file_name))\n",
        "    if data.shape == (60000,):\n",
        "        X_test.append(data)\n",
        "        test_files.append(file_name.split('.')[0])\n",
        "\n",
        "X_test = np.array(X_test)\n",
        "\n",
        "# 2. 예측 수행\n",
        "y_pred = model.predict(X_test)\n",
        "\n",
        "# 반올림 적용\n",
        "y_pred_rounded = np.round(y_pred).astype(int)\n",
        "\n",
        "# 3. submission.csv 파일 업데이트\n",
        "submission_path = '/content/drive/MyDrive/Colab Notebooks/Toy/21~23년/230911 MAIC ECG AI Challenge 2023/submission.csv'\n",
        "submission_df = pd.read_csv(submission_path)\n",
        "\n",
        "for idx, file_name in enumerate(test_files):\n",
        "    submission_df.loc[submission_df['FILENAME'] == file_name, 'AGE'] = y_pred_rounded[idx]\n",
        "\n",
        "submission_df.to_csv(submission_path, index=False)\n"
      ],
      "metadata": {
        "colab": {
          "base_uri": "https://localhost:8080/"
        },
        "id": "R7_0b4bIOPMc",
        "outputId": "7390806e-3b90-435e-bfca-046ebcb7146b"
      },
      "execution_count": null,
      "outputs": [
        {
          "output_type": "stream",
          "name": "stdout",
          "text": [
            "137/137 [==============================] - 1s 4ms/step\n"
          ]
        }
      ]
    },
    {
      "cell_type": "markdown",
      "source": [
        "## 아이 경로 지정"
      ],
      "metadata": {
        "id": "f1r7QsHpfQCX"
      }
    },
    {
      "cell_type": "code",
      "source": [
        "# 라벨 데이터 로딩\n",
        "label_data = pd.read_csv('ECG_child_age_train.csv')\n",
        "\n",
        "train_folder = 'ECG_child_numpy_train'\n",
        "valid_folder = 'ECG_child_numpy_valid'"
      ],
      "metadata": {
        "id": "zCMntGa5fQCY"
      },
      "execution_count": null,
      "outputs": []
    },
    {
      "cell_type": "markdown",
      "source": [
        "## 아이 데이터 사이즈 확인"
      ],
      "metadata": {
        "id": "A77K_BdffQCY"
      }
    },
    {
      "cell_type": "code",
      "source": [
        "def identify_problematic_files(folder_path):\n",
        "    for file_name in os.listdir(folder_path):\n",
        "        try:\n",
        "            data = np.load(os.path.join(folder_path, file_name))\n",
        "            if data.shape != (60000,):\n",
        "                print(f\"File {file_name} has an unexpected shape {data.shape}.\")\n",
        "        except Exception as e:\n",
        "            print(f\"An exception occurred while loading {file_name}: {e}\")\n",
        "\n",
        "identify_problematic_files(train_folder)\n",
        "identify_problematic_files(valid_folder)\n"
      ],
      "metadata": {
        "id": "1bf9_C3WfQCY"
      },
      "execution_count": null,
      "outputs": []
    },
    {
      "cell_type": "code",
      "source": [
        "# 데이터 형태 확인\n",
        "sample_data = np.load(os.path.join(train_folder, 'ecg_child_0.npy'))\n",
        "print(\"Sample data shape:\", sample_data.shape)"
      ],
      "metadata": {
        "colab": {
          "base_uri": "https://localhost:8080/"
        },
        "outputId": "d7a7a56b-48af-4cb0-98b2-5001104dad27",
        "id": "__gZmnOjfQCY"
      },
      "execution_count": null,
      "outputs": [
        {
          "output_type": "stream",
          "name": "stdout",
          "text": [
            "Sample data shape: (60000,)\n"
          ]
        }
      ]
    },
    {
      "cell_type": "code",
      "source": [
        "# 첫 5개 파일만 로드하여 형태 확인\n",
        "for i in range(5):\n",
        "    data = np.load(os.path.join(train_folder, f'ecg_child_{i}.npy'))\n",
        "    print(f\"Shape of ecg_child_{i}.npy: {data.shape}\")"
      ],
      "metadata": {
        "colab": {
          "base_uri": "https://localhost:8080/"
        },
        "outputId": "6f1f87c3-95e6-4c04-a819-69577386cd06",
        "id": "CzmezShkfQCY"
      },
      "execution_count": null,
      "outputs": [
        {
          "output_type": "stream",
          "name": "stdout",
          "text": [
            "Shape of ecg_child_0.npy: (60000,)\n",
            "Shape of ecg_child_1.npy: (60000,)\n",
            "Shape of ecg_child_2.npy: (60000,)\n",
            "Shape of ecg_child_3.npy: (60000,)\n",
            "Shape of ecg_child_4.npy: (60000,)\n"
          ]
        }
      ]
    },
    {
      "cell_type": "markdown",
      "source": [
        "## 아이 데이터 로딩"
      ],
      "metadata": {
        "id": "jICAkNrifQCZ"
      }
    },
    {
      "cell_type": "code",
      "source": [
        "def load_data(folder_path, label_data):\n",
        "    X = []\n",
        "    y = []\n",
        "    for file_name in os.listdir(folder_path):\n",
        "        if file_name == \"ecg_adult_16901.npy\":  # 추가된 부분\n",
        "            print(f\"Skipping problematic file {file_name}\")\n",
        "            continue\n",
        "        try:\n",
        "            data = np.load(os.path.join(folder_path, file_name))\n",
        "            if data.shape != (60000,):\n",
        "                print(f\"File {file_name} has an unexpected shape {data.shape}. Skipping.\")\n",
        "                continue\n",
        "            X.append(data)\n",
        "            y.append(label_data.loc[label_data['FILENAME'] == file_name.split('.')[0], 'AGE'].iloc[0])\n",
        "        except Exception as e:\n",
        "            print(f\"An exception occurred while loading {file_name}: {e}. Skipping.\")\n",
        "            continue\n",
        "    return np.array(X), np.array(y)"
      ],
      "metadata": {
        "id": "ooxgeZuufQCZ"
      },
      "execution_count": null,
      "outputs": []
    },
    {
      "cell_type": "code",
      "source": [
        "# Train 데이터 로딩\n",
        "X_train, y_train = load_data(train_folder, label_data)"
      ],
      "metadata": {
        "id": "Mt_RSqQyfQCZ"
      },
      "execution_count": null,
      "outputs": []
    },
    {
      "cell_type": "markdown",
      "source": [
        "## Train 셋, Test 셋 나누기"
      ],
      "metadata": {
        "id": "HW7yr8WmfQCZ"
      }
    },
    {
      "cell_type": "code",
      "source": [
        "from sklearn.model_selection import train_test_split\n",
        "\n",
        "X_train, X_valid, y_train, y_valid = train_test_split(X_train, y_train, test_size=0.2, random_state=42)"
      ],
      "metadata": {
        "id": "CMuAf80ifQCZ"
      },
      "execution_count": null,
      "outputs": []
    },
    {
      "cell_type": "markdown",
      "source": [
        "# Data Augmentation"
      ],
      "metadata": {
        "id": "28OeWbYPfQCZ"
      }
    },
    {
      "cell_type": "markdown",
      "source": [
        "메모리 터져서 이게 가장 현실적인 것 같음"
      ],
      "metadata": {
        "id": "enTPaGEAfQCZ"
      }
    },
    {
      "cell_type": "code",
      "source": [
        "def data_generator(X, y, batch_size=32, augment_fn=None):\n",
        "    num_samples = len(X)\n",
        "    while True:  # Loop forever so the generator never terminates\n",
        "        for offset in range(0, num_samples, batch_size):\n",
        "            batch_X = X[offset:offset+batch_size]\n",
        "            batch_y = y[offset:offset+batch_size]\n",
        "\n",
        "            if augment_fn:\n",
        "                batch_X, batch_y = augment_fn(batch_X, batch_y)\n",
        "\n",
        "            yield batch_X, batch_y\n",
        "\n",
        "# Augmentation 함수를 정의\n",
        "def batch_augment(X_batch, y_batch):\n",
        "    return apply_augmentation(X_batch, y_batch)  # 앞서 정의한 apply_augmentation 함수를 사용\n",
        "\n",
        "# Generator 생성\n",
        "train_gen = data_generator(X_train, y_train, batch_size=32, augment_fn=batch_augment)\n",
        "valid_gen = data_generator(X_valid, y_valid, batch_size=32)"
      ],
      "metadata": {
        "id": "4BI9xrnefQCZ"
      },
      "execution_count": null,
      "outputs": []
    },
    {
      "cell_type": "markdown",
      "source": [
        "# 모델 학습"
      ],
      "metadata": {
        "id": "303KNq-jfQCZ"
      }
    },
    {
      "cell_type": "markdown",
      "source": [
        "전이학습 모델 가져올 시간 부족"
      ],
      "metadata": {
        "id": "og0C22WqfQCZ"
      }
    },
    {
      "cell_type": "code",
      "source": [
        "from tensorflow.keras import callbacks\n",
        "\n",
        "# 모델 구성\n",
        "model = keras.Sequential([\n",
        "    keras.layers.InputLayer(input_shape=(60000,)),\n",
        "    keras.layers.Dense(256, activation='relu'),\n",
        "    keras.layers.Dropout(0.5),\n",
        "    keras.layers.Dense(128, activation='relu'),\n",
        "    keras.layers.Dropout(0.5),\n",
        "    keras.layers.Dense(64, activation='relu'),\n",
        "    keras.layers.Dense(1)\n",
        "])\n",
        "\n",
        "# Early Stopping과 Model Checkpoint\n",
        "early_stopping = callbacks.EarlyStopping(patience=5, restore_best_weights=True)\n",
        "model_checkpoint = callbacks.ModelCheckpoint('best_model.h5', save_best_only=True)\n",
        "\n",
        "# 모델 컴파일\n",
        "model.compile(optimizer='adam',\n",
        "              loss='mean_squared_error',\n",
        "              metrics=['mae'])\n",
        "\n",
        "# Keras 모델 훈련\n",
        "model.fit(train_gen,\n",
        "          steps_per_epoch=len(X_train) // 32,\n",
        "          epochs=20,  # 시간 부족으로 에포크 수 50 까지 안됨\n",
        "          validation_data=valid_gen,\n",
        "          validation_steps=len(X_valid) // 32,\n",
        "          callbacks=[early_stopping, model_checkpoint])  # 콜백 추가"
      ],
      "metadata": {
        "colab": {
          "base_uri": "https://localhost:8080/"
        },
        "outputId": "82c73f50-167f-4390-bcab-5213055fb79a",
        "id": "J-pQa29tfQCa"
      },
      "execution_count": null,
      "outputs": [
        {
          "output_type": "stream",
          "name": "stdout",
          "text": [
            "Epoch 1/20\n",
            "218/219 [============================>.] - ETA: 0s - loss: 342823.4375 - mae: 334.1474"
          ]
        },
        {
          "output_type": "stream",
          "name": "stderr",
          "text": [
            "/usr/local/lib/python3.10/dist-packages/keras/src/engine/training.py:3000: UserWarning: You are saving your model as an HDF5 file via `model.save()`. This file format is considered legacy. We recommend using instead the native Keras format, e.g. `model.save('my_model.keras')`.\n",
            "  saving_api.save_model(\n"
          ]
        },
        {
          "output_type": "stream",
          "name": "stdout",
          "text": [
            "\b\b\b\b\b\b\b\b\b\b\b\b\b\b\b\b\b\b\b\b\b\b\b\b\b\b\b\b\b\b\b\b\b\b\b\b\b\b\b\b\b\b\b\b\b\b\b\b\b\b\b\b\b\b\b\b\b\b\b\b\b\b\b\b\b\b\b\b\b\b\b\b\b\b\b\b\b\b\b\b\b\b\b\b\b\b\r219/219 [==============================] - 14s 55ms/step - loss: 341637.4688 - mae: 333.5190 - val_loss: 35060.1250 - val_mae: 102.0132\n",
            "Epoch 2/20\n",
            "219/219 [==============================] - 10s 45ms/step - loss: 130806.0703 - mae: 196.5013 - val_loss: 5869.7988 - val_mae: 44.8950\n",
            "Epoch 3/20\n",
            "219/219 [==============================] - 10s 45ms/step - loss: 96088.5469 - mae: 138.3369 - val_loss: 3701.2163 - val_mae: 32.0663\n",
            "Epoch 4/20\n",
            "219/219 [==============================] - 10s 46ms/step - loss: 46627.6250 - mae: 94.7395 - val_loss: 1035.8156 - val_mae: 17.0999\n",
            "Epoch 5/20\n",
            "219/219 [==============================] - 9s 40ms/step - loss: 17822.5176 - mae: 56.8933 - val_loss: 1662.2549 - val_mae: 9.3466\n",
            "Epoch 6/20\n",
            "219/219 [==============================] - 10s 48ms/step - loss: 16773.4551 - mae: 44.9850 - val_loss: 120.4888 - val_mae: 7.0947\n",
            "Epoch 7/20\n",
            "219/219 [==============================] - 9s 43ms/step - loss: 8418.5381 - mae: 30.4522 - val_loss: 86.4007 - val_mae: 4.1589\n",
            "Epoch 8/20\n",
            "219/219 [==============================] - 10s 44ms/step - loss: 15827.2686 - mae: 33.3135 - val_loss: 80.3790 - val_mae: 4.4762\n",
            "Epoch 9/20\n",
            "219/219 [==============================] - 10s 44ms/step - loss: 42349.2305 - mae: 30.3144 - val_loss: 28.0358 - val_mae: 2.8708\n",
            "Epoch 10/20\n",
            "219/219 [==============================] - 10s 45ms/step - loss: 5110.6538 - mae: 16.3061 - val_loss: 23.9613 - val_mae: 2.6170\n",
            "Epoch 11/20\n",
            "219/219 [==============================] - 10s 45ms/step - loss: 1317.8568 - mae: 11.3891 - val_loss: 22.1443 - val_mae: 2.7230\n",
            "Epoch 12/20\n",
            "219/219 [==============================] - 10s 45ms/step - loss: 3121.6772 - mae: 11.2052 - val_loss: 12.9923 - val_mae: 2.3904\n",
            "Epoch 13/20\n",
            "219/219 [==============================] - 10s 44ms/step - loss: 4149.1528 - mae: 12.5352 - val_loss: 184.7211 - val_mae: 5.2767\n",
            "Epoch 14/20\n",
            "219/219 [==============================] - 10s 45ms/step - loss: 1097.9244 - mae: 9.4938 - val_loss: 23.9284 - val_mae: 2.3614\n",
            "Epoch 15/20\n",
            "219/219 [==============================] - 10s 46ms/step - loss: 935.2159 - mae: 8.4810 - val_loss: 19.7356 - val_mae: 2.5287\n",
            "Epoch 16/20\n",
            "219/219 [==============================] - 10s 45ms/step - loss: 531.4615 - mae: 6.8563 - val_loss: 114.1951 - val_mae: 3.2536\n",
            "Epoch 17/20\n",
            "219/219 [==============================] - 10s 45ms/step - loss: 728.4912 - mae: 6.6555 - val_loss: 14.6694 - val_mae: 2.1188\n"
          ]
        },
        {
          "output_type": "execute_result",
          "data": {
            "text/plain": [
              "<keras.src.callbacks.History at 0x7f9b1041ba30>"
            ]
          },
          "metadata": {},
          "execution_count": 25
        }
      ]
    },
    {
      "cell_type": "markdown",
      "source": [
        "# 예측"
      ],
      "metadata": {
        "id": "d94Ici7qfQCa"
      }
    },
    {
      "cell_type": "code",
      "source": [
        "import pandas as pd\n",
        "import numpy as np\n",
        "import os\n",
        "\n",
        "# 1. 테스트 데이터 로드\n",
        "test_folder = '/content/drive/MyDrive/Colab Notebooks/Toy/21~23년/230911 MAIC ECG AI Challenge 2023/ECG_child_numpy_valid'\n",
        "X_test = []\n",
        "test_files = []\n",
        "\n",
        "for file_name in os.listdir(test_folder):\n",
        "    data = np.load(os.path.join(test_folder, file_name))\n",
        "    if data.shape == (60000,):\n",
        "        X_test.append(data)\n",
        "        test_files.append(file_name.split('.')[0])\n",
        "\n",
        "X_test = np.array(X_test)\n",
        "\n",
        "# 2. 예측 수행\n",
        "y_pred = model.predict(X_test)\n",
        "\n",
        "# 반올림 적용 (소수점 첫째 자리까지)\n",
        "y_pred_rounded = np.round(y_pred, decimals=1)\n",
        "\n",
        "# 3. submission.csv 파일 업데이트\n",
        "submission_path = '/content/drive/MyDrive/Colab Notebooks/Toy/21~23년/230911 MAIC ECG AI Challenge 2023/submission.csv'\n",
        "submission_df = pd.read_csv(submission_path)\n",
        "\n",
        "for idx, file_name in enumerate(test_files):\n",
        "    submission_df.loc[submission_df['FILENAME'] == file_name, 'AGE'] = y_pred_rounded[idx]\n",
        "\n",
        "submission_df.to_csv(submission_path, index=False)"
      ],
      "metadata": {
        "colab": {
          "base_uri": "https://localhost:8080/"
        },
        "outputId": "cd080c86-fa65-4b4f-ba93-7c99ef90f6c6",
        "id": "WN6ueT7pfQCa"
      },
      "execution_count": null,
      "outputs": [
        {
          "output_type": "stream",
          "name": "stdout",
          "text": [
            "35/35 [==============================] - 0s 4ms/step\n"
          ]
        }
      ]
    }
  ]
}