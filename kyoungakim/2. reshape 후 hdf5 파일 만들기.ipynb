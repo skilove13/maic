{
 "cells": [
  {
   "cell_type": "code",
   "execution_count": null,
   "metadata": {},
   "outputs": [],
   "source": [
    "\n",
    "#2. 데이터를 (5000, 12)로 reshape후 hdf5 파일만들기\n",
    "#2. 데이터를 (5000, 12)로 reshape후 hdf5 파일만들기\n",
    "import h5py\n",
    "\n",
    "dataset_path = '/home/work/ecg-age-prediction/ecg-age-prediction-main/competition/input/ECG_adult_numpy_train'\n",
    "output_file = '/home/work/ecg-age-prediction/ecg-age-prediction-main/competition/input/ECG_adult_numpy_train.h5'  # 저장할 hdf5 파일 이름\n",
    "\n",
    "# .npy 파일들을 리스트로 로드\n",
    "npy_files = [f for f in os.listdir(dataset_path) if f.endswith('.npy')]\n",
    "\n",
    "# 파일 이름에서 숫자 부분을 추출하여 정렬\n",
    "npy_files.sort(key=lambda x: int(x.split('_')[-1].split('.')[0]))\n",
    "\n",
    "# 정렬된 파일 리스트 출력\n",
    "print(npy_files)\n",
    "\n",
    "# data = np.concatenate([np.load(os.path.join(dataset_path, f)) for f in npy_files])\n",
    "\n",
    "# # (5000, 12)로 reshape\n",
    "# data_reshaped = data.reshape(-1, 5000, 12)\n",
    "\n",
    "# # HDF5 파일로 저장\n",
    "# with h5py.File(output_file, 'w') as hf:\n",
    "#     hf.create_dataset('tracings', data=data_reshaped)  # 컬럼의 이름을 tracings라고 명명\n",
    "\n",
    "# # HDF5 파일 생성확인\n",
    "# file_exists = os.path.exists('/home/work/ecg-age-prediction/ecg-age-prediction-main/competition/input/ECG_adult_numpy_valid.h5')\n",
    "# print(file_exists)\n",
    "\n",
    "# # HDF5 파일 열기\n",
    "\n",
    "# #data='/home/work/ecg-age-prediction/ecg-age-prediction-main/input/exams.hdf5'\n",
    "# data='/home/work/ecg-age-prediction/ecg-age-prediction-main/competition/input/input1/ECG_child_numpy_valid.h5'\n",
    "# # HDF 파일 컬럼 확인하기\n",
    "# with h5py.File(data, 'r') as hf:\n",
    "\n",
    "#     # HDF5 파일 내의 모든 데이터셋의 이름 확인\n",
    "#     dataset_names = list(hf.keys())\n",
    "\n",
    "#     # 데이터셋 이름 출력\n",
    "#     print(\"Available datasets:\", dataset_names)\n",
    "\n",
    "# # HDF5 파일의 컬럼 열기\n",
    "# with h5py.File(data, 'r') as hf:\n",
    "#     # 데이터셋 내용 출력\n",
    "#     print(hf['tracings'][:2])\n"
   ]
  }
 ],
 "metadata": {
  "kernelspec": {
   "display_name": "PyTorch 1.7.1 (NGC 20.11/Python 3.6 Conda) on Backend.AI",
   "language": "python",
   "name": "python3"
  },
  "language_info": {
   "codemirror_mode": {
    "name": "ipython",
    "version": 3
   },
   "file_extension": ".py",
   "mimetype": "text/x-python",
   "name": "python",
   "nbconvert_exporter": "python",
   "pygments_lexer": "ipython3",
   "version": "3.6.10"
  }
 },
 "nbformat": 4,
 "nbformat_minor": 4
}
